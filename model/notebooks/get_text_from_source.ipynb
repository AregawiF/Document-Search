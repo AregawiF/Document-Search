{
 "cells": [
  {
   "cell_type": "code",
   "execution_count": null,
   "metadata": {},
   "outputs": [],
   "source": []
  },
  {
   "cell_type": "code",
   "execution_count": null,
   "metadata": {},
   "outputs": [],
   "source": [
    "def extract_text_from_website(url):\n",
    "    response = requests.get(url)\n",
    "    soup = BeautifulSoup(response.content, \"html.parser\")\n",
    "    paragraphs = soup.find_all('p')  # Extracts all <p> tags (paragraphs)\n",
    "    docs = [p.get_text(strip=True) for p in paragraphs if p.get_text(strip=True)]\n",
    "    return docs\n",
    "    # text = ' '.join([para.get_text() for para in paragraphs])\n",
    "    # return text\n",
    "\n",
    "url = 'https://en.wikipedia.org/wiki/Ethiopia'\n",
    "print(extract_text_from_website(url))"
   ]
  },
  {
   "cell_type": "code",
   "execution_count": null,
   "metadata": {},
   "outputs": [],
   "source": [
    "from docx import Document\n",
    "from PyPDF2 import PdfReader\n",
    "\n",
    "# Function to handle .txt files\n",
    "def extract_text_from_txt(file_path):\n",
    "    with open(file_path, 'r', encoding='utf-8') as file:\n",
    "        text = file.read()\n",
    "    return [line.strip() for line in text.splitlines() if line.strip()]\n",
    "\n",
    "# Function to handle .docx files\n",
    "def extract_text_from_docx(file_path):\n",
    "    doc = Document(file_path)\n",
    "    return [paragraph.text.strip() for paragraph in doc.paragraphs if paragraph.text.strip()]\n",
    "\n",
    "# Function to handle .pdf files\n",
    "def extract_text_from_pdf(file_path):\n",
    "    docs = []\n",
    "    with open(file_path, 'rb') as file:\n",
    "        reader = PdfReader(file)\n",
    "        for page in reader.pages:\n",
    "            text = page.extract_text()\n",
    "            if text:  # Ensure the page has text\n",
    "                docs.extend([line.strip() for line in text.splitlines() if line.strip()])\n",
    "    return docs\n",
    "\n",
    "# Main function to extract text based on file type\n",
    "def extract_text_from_files(file_paths):\n",
    "    all_docs = []  # List to hold all text from all files\n",
    "    for file_path in file_paths:\n",
    "        # Check file extension\n",
    "        file_extension = file_path.split('.')[-1].lower()\n",
    "\n",
    "        # Handle different file types\n",
    "        if file_extension == 'txt':\n",
    "            all_docs.extend(extract_text_from_txt(file_path))\n",
    "        elif file_extension == 'docx':\n",
    "            all_docs.extend(extract_text_from_docx(file_path))\n",
    "        elif file_extension == 'pdf':\n",
    "            all_docs.extend(extract_text_from_pdf(file_path))\n",
    "        else:\n",
    "            raise ValueError(f\"Unsupported file format for {file_path}. Please use .txt, .docx, or .pdf\")\n",
    "\n",
    "    return all_docs\n",
    "\n",
    "# Example Usage\n",
    "file_paths = [\"../src/data/notepad.txt\", \"../src/data/document.docx\", \"../src/data/file.pdf\"]  # List of file paths\n",
    "docs = extract_text_from_files(file_paths)\n",
    "\n",
    "# Print the result\n",
    "print(docs)\n"
   ]
  }
 ],
 "metadata": {
  "kernelspec": {
   "display_name": ".venv",
   "language": "python",
   "name": "python3"
  },
  "language_info": {
   "name": "python",
   "version": "3.12.8"
  }
 },
 "nbformat": 4,
 "nbformat_minor": 2
}
